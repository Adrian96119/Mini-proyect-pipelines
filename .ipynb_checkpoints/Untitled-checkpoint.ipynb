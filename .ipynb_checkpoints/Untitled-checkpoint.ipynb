{
 "cells": [
  {
   "cell_type": "markdown",
   "metadata": {},
   "source": [
    "## LIMPIEZA DEL DATASET!!!!!"
   ]
  },
  {
   "cell_type": "markdown",
   "metadata": {},
   "source": [
    "El conjunto de datos resume las mejores películas de un período de 1920-2000, uno de los \"períodos dorados\" de las películas de Hollywood. Los datos se pueden utilizar para realizar un análisis de datos exploratorio sobre la filmografía de Hollywood y para identificar el patrón de cómo se han desarrollado los géneros de películas a lo largo de los años. También presenta los mejores miembros del reparto: actores, actrices y directores y la popularidad.\n",
    "\n",
    "Contenido\n",
    "Año: el año en que se estrenó la película.\n",
    "Duración- La duración de la película en minutos\n",
    "Título- Nombre del tema de la película-\n",
    "Género del actor de la película-\n",
    "Nombre del actor principal en la actriz de la película-\n",
    "Nombre de la actriz principal en el\n",
    "director de la película- Nombre del director de la película\n",
    "Popularidad: métricas para identificar la popularidad de los\n",
    "premios cinematográficos: si la película ha sido nominada / premiada con reconocimientos globales.\n"
   ]
  },
  {
   "cell_type": "code",
   "execution_count": 1,
   "metadata": {},
   "outputs": [],
   "source": [
    "import numpy as np\n",
    "import pandas as pd\n",
    "import matplotlib.pyplot as plt\n",
    "import seaborn as sns\n",
    "import re\n",
    "\n",
    "%matplotlib inline\n"
   ]
  },
  {
   "cell_type": "code",
   "execution_count": 2,
   "metadata": {},
   "outputs": [],
   "source": [
    "df = pd.read_csv(\"MovieDataset.csv\",encoding = \"ISO-8859-1\") #ABRIMOS EL DATA SET CUALQUIERA REFERENTE A PELICULAS"
   ]
  },
  {
   "cell_type": "code",
   "execution_count": 16,
   "metadata": {},
   "outputs": [
    {
     "name": "stdout",
     "output_type": "stream",
     "text": [
      "<class 'pandas.core.frame.DataFrame'>\n",
      "Int64Index: 0 entries\n",
      "Data columns (total 9 columns):\n",
      " #   Column      Non-Null Count  Dtype  \n",
      "---  ------      --------------  -----  \n",
      " 0   Year        0 non-null      int64  \n",
      " 1   Length      0 non-null      float64\n",
      " 2   Title       0 non-null      object \n",
      " 3   Subject     0 non-null      object \n",
      " 4   Actor       0 non-null      object \n",
      " 5   Actress     0 non-null      object \n",
      " 6   Director    0 non-null      object \n",
      " 7   Popularity  0 non-null      float64\n",
      " 8   Awards      0 non-null      object \n",
      "dtypes: float64(2), int64(1), object(6)\n",
      "memory usage: 0.0+ bytes\n"
     ]
    }
   ],
   "source": [
    "df.info() #compruebo lo primero la información de esta tabla, y veo que me interesan todas las columnas. No necesito \n",
    "            #quitar ninguna,y además el tipo de dato de cada columna se corresponde con la realidad, estan todas correctas."
   ]
  },
  {
   "cell_type": "code",
   "execution_count": 17,
   "metadata": {},
   "outputs": [],
   "source": [
    "#Lo sigiente que vamos a hacer es eliminar las filas donde el titulo esté duplicado ya que no serviría de mucho para\n",
    "#nuestro posterior analisis.\n",
    "df = df.drop_duplicates(\"Title\",keep = 'last')"
   ]
  },
  {
   "cell_type": "code",
   "execution_count": 18,
   "metadata": {},
   "outputs": [
    {
     "name": "stdout",
     "output_type": "stream",
     "text": [
      "<class 'pandas.core.frame.DataFrame'>\n",
      "Int64Index: 0 entries\n",
      "Data columns (total 9 columns):\n",
      " #   Column      Non-Null Count  Dtype  \n",
      "---  ------      --------------  -----  \n",
      " 0   Year        0 non-null      int64  \n",
      " 1   Length      0 non-null      float64\n",
      " 2   Title       0 non-null      object \n",
      " 3   Subject     0 non-null      object \n",
      " 4   Actor       0 non-null      object \n",
      " 5   Actress     0 non-null      object \n",
      " 6   Director    0 non-null      object \n",
      " 7   Popularity  0 non-null      float64\n",
      " 8   Awards      0 non-null      object \n",
      "dtypes: float64(2), int64(1), object(6)\n",
      "memory usage: 0.0+ bytes\n"
     ]
    }
   ],
   "source": [
    "df.info() # comprobamos que con el data original se borraron 4 filas donde el título se repetía. "
   ]
  },
  {
   "cell_type": "code",
   "execution_count": 19,
   "metadata": {},
   "outputs": [
    {
     "data": {
      "text/plain": [
       "Series([], Name: Awards, dtype: int64)"
      ]
     },
     "execution_count": 19,
     "metadata": {},
     "output_type": "execute_result"
    }
   ],
   "source": [
    "df[\"Awards\"].value_counts() #Comprobamos también en la columna de Awards que no hay ningún dato extraño"
   ]
  },
  {
   "cell_type": "markdown",
   "metadata": {},
   "source": [
    "¡Vamos a trabajar con nuestros directores preferidos! Por lo tanto, vamos a comprobar en la columna de director, los directores unicos que hay en este data set para seleccionar solo las filas donde se encuentren los que elijamos."
   ]
  },
  {
   "cell_type": "code",
   "execution_count": 20,
   "metadata": {},
   "outputs": [],
   "source": [
    "#print(set(df['Director']))"
   ]
  },
  {
   "cell_type": "code",
   "execution_count": 21,
   "metadata": {},
   "outputs": [
    {
     "data": {
      "text/html": [
       "<div>\n",
       "<style scoped>\n",
       "    .dataframe tbody tr th:only-of-type {\n",
       "        vertical-align: middle;\n",
       "    }\n",
       "\n",
       "    .dataframe tbody tr th {\n",
       "        vertical-align: top;\n",
       "    }\n",
       "\n",
       "    .dataframe thead th {\n",
       "        text-align: right;\n",
       "    }\n",
       "</style>\n",
       "<table border=\"1\" class=\"dataframe\">\n",
       "  <thead>\n",
       "    <tr style=\"text-align: right;\">\n",
       "      <th></th>\n",
       "      <th>Year</th>\n",
       "      <th>Length</th>\n",
       "      <th>Title</th>\n",
       "      <th>Subject</th>\n",
       "      <th>Actor</th>\n",
       "      <th>Actress</th>\n",
       "      <th>Director</th>\n",
       "      <th>Popularity</th>\n",
       "      <th>Awards</th>\n",
       "    </tr>\n",
       "  </thead>\n",
       "  <tbody>\n",
       "  </tbody>\n",
       "</table>\n",
       "</div>"
      ],
      "text/plain": [
       "Empty DataFrame\n",
       "Columns: [Year, Length, Title, Subject, Actor, Actress, Director, Popularity, Awards]\n",
       "Index: []"
      ]
     },
     "execution_count": 21,
     "metadata": {},
     "output_type": "execute_result"
    }
   ],
   "source": [
    "#Una vez elegidos los directores que queremos, vamos a reducir nuestro data set.\n",
    "df"
   ]
  },
  {
   "cell_type": "code",
   "execution_count": 13,
   "metadata": {},
   "outputs": [
    {
     "data": {
      "text/html": [
       "<div>\n",
       "<style scoped>\n",
       "    .dataframe tbody tr th:only-of-type {\n",
       "        vertical-align: middle;\n",
       "    }\n",
       "\n",
       "    .dataframe tbody tr th {\n",
       "        vertical-align: top;\n",
       "    }\n",
       "\n",
       "    .dataframe thead th {\n",
       "        text-align: right;\n",
       "    }\n",
       "</style>\n",
       "<table border=\"1\" class=\"dataframe\">\n",
       "  <thead>\n",
       "    <tr style=\"text-align: right;\">\n",
       "      <th></th>\n",
       "      <th>Year</th>\n",
       "      <th>Length</th>\n",
       "      <th>Title</th>\n",
       "      <th>Subject</th>\n",
       "      <th>Actor</th>\n",
       "      <th>Actress</th>\n",
       "      <th>Director</th>\n",
       "      <th>Popularity</th>\n",
       "      <th>Awards</th>\n",
       "    </tr>\n",
       "  </thead>\n",
       "  <tbody>\n",
       "  </tbody>\n",
       "</table>\n",
       "</div>"
      ],
      "text/plain": [
       "Empty DataFrame\n",
       "Columns: [Year, Length, Title, Subject, Actor, Actress, Director, Popularity, Awards]\n",
       "Index: []"
      ]
     },
     "execution_count": 13,
     "metadata": {},
     "output_type": "execute_result"
    }
   ],
   "source": [
    "df"
   ]
  },
  {
   "cell_type": "code",
   "execution_count": null,
   "metadata": {},
   "outputs": [],
   "source": []
  }
 ],
 "metadata": {
  "kernelspec": {
   "display_name": "Python 3",
   "language": "python",
   "name": "python3"
  },
  "language_info": {
   "codemirror_mode": {
    "name": "ipython",
    "version": 3
   },
   "file_extension": ".py",
   "mimetype": "text/x-python",
   "name": "python",
   "nbconvert_exporter": "python",
   "pygments_lexer": "ipython3",
   "version": "3.8.3"
  }
 },
 "nbformat": 4,
 "nbformat_minor": 4
}
