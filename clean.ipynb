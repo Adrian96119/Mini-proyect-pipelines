{
 "cells": [
  {
   "cell_type": "markdown",
   "metadata": {},
   "source": [
    "## LIMPIEZA DEL DATASET!!!!!"
   ]
  },
  {
   "cell_type": "markdown",
   "metadata": {},
   "source": [
    "\n"
   ]
  },
  {
   "cell_type": "code",
   "execution_count": 1,
   "metadata": {},
   "outputs": [],
   "source": [
    "import pandas as pd"
   ]
  },
  {
   "cell_type": "code",
   "execution_count": 2,
   "metadata": {},
   "outputs": [],
   "source": [
    "df = pd.read_csv(\"MovieDataset.csv\",encoding = \"ISO-8859-1\") #ABRIMOS EL DATA SET CUALQUIERA REFERENTE A PELICULAS"
   ]
  },
  {
   "cell_type": "code",
   "execution_count": 3,
   "metadata": {},
   "outputs": [
    {
     "name": "stdout",
     "output_type": "stream",
     "text": [
      "<class 'pandas.core.frame.DataFrame'>\n",
      "RangeIndex: 1659 entries, 0 to 1658\n",
      "Data columns (total 9 columns):\n",
      " #   Column      Non-Null Count  Dtype  \n",
      "---  ------      --------------  -----  \n",
      " 0   Year        1659 non-null   int64  \n",
      " 1   Length      1592 non-null   float64\n",
      " 2   Title       1659 non-null   object \n",
      " 3   Subject     1657 non-null   object \n",
      " 4   Actor       1651 non-null   object \n",
      " 5   Actress     1281 non-null   object \n",
      " 6   Director    1406 non-null   object \n",
      " 7   Popularity  1646 non-null   float64\n",
      " 8   Awards      1652 non-null   object \n",
      "dtypes: float64(2), int64(1), object(6)\n",
      "memory usage: 116.8+ KB\n"
     ]
    }
   ],
   "source": [
    "df.info() #compruebo lo primero la información de esta tabla, y veo que me interesan todas las columnas. No necesito \n",
    "            #quitar ninguna,y además el tipo de dato de cada columna se corresponde con la realidad, estan todas correctas."
   ]
  },
  {
   "cell_type": "code",
   "execution_count": 4,
   "metadata": {},
   "outputs": [],
   "source": [
    "#Lo sigiente que vamos a hacer es eliminar las filas donde el titulo esté duplicado ya que no serviría de mucho para\n",
    "#nuestro posterior analisis.\n",
    "df = df.drop_duplicates(\"Title\",keep = 'last')"
   ]
  },
  {
   "cell_type": "code",
   "execution_count": 5,
   "metadata": {},
   "outputs": [
    {
     "name": "stdout",
     "output_type": "stream",
     "text": [
      "<class 'pandas.core.frame.DataFrame'>\n",
      "Int64Index: 1655 entries, 0 to 1658\n",
      "Data columns (total 9 columns):\n",
      " #   Column      Non-Null Count  Dtype  \n",
      "---  ------      --------------  -----  \n",
      " 0   Year        1655 non-null   int64  \n",
      " 1   Length      1588 non-null   float64\n",
      " 2   Title       1655 non-null   object \n",
      " 3   Subject     1653 non-null   object \n",
      " 4   Actor       1647 non-null   object \n",
      " 5   Actress     1277 non-null   object \n",
      " 6   Director    1404 non-null   object \n",
      " 7   Popularity  1642 non-null   float64\n",
      " 8   Awards      1648 non-null   object \n",
      "dtypes: float64(2), int64(1), object(6)\n",
      "memory usage: 129.3+ KB\n"
     ]
    }
   ],
   "source": [
    "df.info() # comprobamos que con el data original se borraron 4 filas donde el título se repetía. "
   ]
  },
  {
   "cell_type": "code",
   "execution_count": 6,
   "metadata": {},
   "outputs": [
    {
     "data": {
      "text/plain": [
       "No     1488\n",
       "Yes     160\n",
       "Name: Awards, dtype: int64"
      ]
     },
     "execution_count": 6,
     "metadata": {},
     "output_type": "execute_result"
    }
   ],
   "source": [
    "df[\"Awards\"].value_counts() #Comprobamos también en la columna de Awards que no hay ningún dato extraño"
   ]
  },
  {
   "cell_type": "markdown",
   "metadata": {},
   "source": [
    "¡Vamos a trabajar con nuestros directores preferidos! Por lo tanto, vamos a comprobar en la columna de director, los directores unicos que hay en este data set para seleccionar solo las filas donde se encuentren los que elijamos."
   ]
  },
  {
   "cell_type": "code",
   "execution_count": 7,
   "metadata": {},
   "outputs": [],
   "source": [
    "#print(set(df['Director']))"
   ]
  },
  {
   "cell_type": "code",
   "execution_count": 8,
   "metadata": {},
   "outputs": [],
   "source": [
    "#Una vez elegidos los directores que queremos, vamos a reducir nuestro data set.\n",
    "directores = df[(df[\"Director\"] == \"Ford John\") \n",
    "                 \n",
    "                | (df[\"Director\"] == \"Fellini Federico\") | (df[\"Director\"] == \"Almodóvar Pedro\")\n",
    "                | (df[\"Director\"] == \"De Palma Brian\")   | (df[\"Director\"] == \"Coppola Francis Ford\")\n",
    "                | (df[\"Director\"] == \"Leone Sergio\")     | (df[\"Director\"] == \"Spielberg Steven\")\n",
    "                | (df[\"Director\"] == \"Eastwood Clint\")   | (df[\"Director\"] == \"Cameron James\") \n",
    "                | (df[\"Director\"] == \"Kubrick Stanley\")  | (df[\"Director\"] == \"Scorsese Martin\")]"
   ]
  },
  {
   "cell_type": "code",
   "execution_count": 9,
   "metadata": {},
   "outputs": [
    {
     "name": "stdout",
     "output_type": "stream",
     "text": [
      "Year           0\n",
      "Length         4\n",
      "Title          0\n",
      "Subject        0\n",
      "Actor          0\n",
      "Actress       16\n",
      "Director       0\n",
      "Popularity     0\n",
      "Awards         0\n",
      "dtype: int64\n"
     ]
    }
   ],
   "source": [
    "print(directores.isnull().sum()) #comprobamos que solo hay valores nulos en la columna lenght y en la de Actress\n",
    "                                 #asique rellenaremos esos campos posteriormente con la información de las Apis."
   ]
  },
  {
   "cell_type": "code",
   "execution_count": 10,
   "metadata": {},
   "outputs": [
    {
     "name": "stderr",
     "output_type": "stream",
     "text": [
      "C:\\Users\\Adrian\\anaconda3\\lib\\site-packages\\pandas\\core\\generic.py:6245: SettingWithCopyWarning: \n",
      "A value is trying to be set on a copy of a slice from a DataFrame\n",
      "\n",
      "See the caveats in the documentation: https://pandas.pydata.org/pandas-docs/stable/user_guide/indexing.html#returning-a-view-versus-a-copy\n",
      "  self._update_inplace(new_data)\n",
      "<ipython-input-10-b0c6645ce7d4>:3: SettingWithCopyWarning: \n",
      "A value is trying to be set on a copy of a slice from a DataFrame.\n",
      "Try using .loc[row_indexer,col_indexer] = value instead\n",
      "\n",
      "See the caveats in the documentation: https://pandas.pydata.org/pandas-docs/stable/user_guide/indexing.html#returning-a-view-versus-a-copy\n",
      "  directores[\"Length\"] = directores[\"Length\"].astype(int)\n"
     ]
    }
   ],
   "source": [
    "#Queremos rellenar los valores nulos primero con ceros para que despues podamos cambiar el tipo de dato de float, a int\n",
    "directores[\"Length\"].fillna(0,inplace = True)\n",
    "directores[\"Length\"] = directores[\"Length\"].astype(int)"
   ]
  },
  {
   "cell_type": "code",
   "execution_count": 11,
   "metadata": {},
   "outputs": [],
   "source": [
    "#directores[\"Year\"].value_counts()\n",
    "#directores[\"Length\"].value_counts()\n",
    "#directores[\"Popularity\"].value_counts()\n",
    "\n",
    "#EVALUAMOS SI NO HAY VALORES DE 0 EN LAS COLUMNAS QUE DEBAN TENER NUMEROS DIFERENTES A 0\n",
    "# PARA SABER SI HAY QUE RELLENARLOS CON DATOS TAMBIÉN."
   ]
  },
  {
   "cell_type": "code",
   "execution_count": 12,
   "metadata": {},
   "outputs": [
    {
     "name": "stderr",
     "output_type": "stream",
     "text": [
      "C:\\Users\\Adrian\\anaconda3\\lib\\site-packages\\pandas\\core\\generic.py:5303: SettingWithCopyWarning: \n",
      "A value is trying to be set on a copy of a slice from a DataFrame.\n",
      "Try using .loc[row_indexer,col_indexer] = value instead\n",
      "\n",
      "See the caveats in the documentation: https://pandas.pydata.org/pandas-docs/stable/user_guide/indexing.html#returning-a-view-versus-a-copy\n",
      "  self[name] = value\n"
     ]
    }
   ],
   "source": [
    "set(directores[\"Subject\"]) #Comprobamos que se repite Westerns y Western asique lo dejaremos en Western para que no haya \n",
    "#problemas en nuestro analisis.\n",
    "directores.Subject = directores.Subject.replace({\"Westerns\": \"Western\"}) #¿Mejor no?\n",
    "#Hemos hecho lo mismo con las otras columnas y parece que los datos estan todos correctos.\n",
    "        \n",
    "        "
   ]
  },
  {
   "cell_type": "code",
   "execution_count": 13,
   "metadata": {},
   "outputs": [
    {
     "name": "stderr",
     "output_type": "stream",
     "text": [
      "C:\\Users\\Adrian\\anaconda3\\lib\\site-packages\\pandas\\core\\indexing.py:966: SettingWithCopyWarning: \n",
      "A value is trying to be set on a copy of a slice from a DataFrame.\n",
      "Try using .loc[row_indexer,col_indexer] = value instead\n",
      "\n",
      "See the caveats in the documentation: https://pandas.pydata.org/pandas-docs/stable/user_guide/indexing.html#returning-a-view-versus-a-copy\n",
      "  self.obj[item] = s\n"
     ]
    }
   ],
   "source": [
    "length = {\"Good Fellas\":146,\"Raging Bull\":129,\"Ginger & Fred\":125,\"Matador\":110}\n",
    "for k,i in length.items():\n",
    "    directores.loc[directores[\"Title\"]== k,\"Length\"] = i\n",
    "#RELLENAMOS LOS VALORES QUE FALTAN CON LA INFO DE LAS APIS."
   ]
  },
  {
   "cell_type": "code",
   "execution_count": 14,
   "metadata": {},
   "outputs": [],
   "source": [
    "#BIEN! Ahora hay que rellenar el hueco nulo de las actrices.\n",
    "#VAMOS PRIMERO A SUSTITUIR LOS VALORES NULOS POR CEROS.\n"
   ]
  },
  {
   "cell_type": "code",
   "execution_count": 15,
   "metadata": {},
   "outputs": [],
   "source": [
    "#Lo que hemos hecho con la duración lo hacemos con las actrices.\n",
    "actress = {\"Raging Bull\": \"Cathy Moriarty\",\"Wagonmaster\":\"Joanne Dru\",\"Duel\": \"Jacqueline Scott\",\n",
    "           \"Wise Guys\":\"No hay\",\"Bellboy & the Playgirls\":\"June Wilkinson\",\n",
    "           \"The\tLaw of Desire\":\"Karin Dor\",\"Full Metal Jacket\":\"No hay\",\"Untouchables The\":\"No hay\",\n",
    "           \"Last Hurrah The\": \"Dianne Foster\",\n",
    "           \"Indiana Jones & the Last Crusade\":\"No se sabe\",\"For a Few Dollars More\":\"No hay\",\n",
    "           \"They Were Expendable\":\"Donna Reed\",\"Firefox\":\"No hay\",\"A Clockwork Orange\":\"No hay\",\"Apocalypse Now\":\"No hay\"}\t\n",
    "\n",
    "for k,i in actress.items():\n",
    "    directores.loc[directores[\"Title\"]== k,\"Actress\"] = i"
   ]
  },
  {
   "cell_type": "code",
   "execution_count": 16,
   "metadata": {},
   "outputs": [],
   "source": [
    "#directores.sort_values(\"Actress\").tail(17) combrobamos los cambios."
   ]
  },
  {
   "cell_type": "code",
   "execution_count": 17,
   "metadata": {},
   "outputs": [],
   "source": [
    "#set(directores[\"Title\"]) Comprobamos todos los titulos unicos de peliculas que hay para buscar su id y sacar los ratings."
   ]
  },
  {
   "cell_type": "code",
   "execution_count": 18,
   "metadata": {},
   "outputs": [],
   "source": [
    "directores.insert(9,\"Rating_imdb\",0) #Insertamos una columna nueva para poner los ratings de cada pelicula y \n",
    "#añadimos todos los ratings sacados con web-scraping de Imdb."
   ]
  },
  {
   "cell_type": "code",
   "execution_count": 19,
   "metadata": {},
   "outputs": [],
   "source": [
    "ratings =  {'A Fistful of Dollars': 8,\n",
    " 'After Hours': 7.7,\n",
    " 'Aliens': 8.3,\n",
    " 'Amarcord': 7.9,\n",
    " 'Apocalypse Now':8.4,\n",
    " 'Arrowsmith': 6.2,\n",
    " 'Battle of Midway The':7.5,\n",
    " 'Bellboy & the Playgirls The':3.1,\n",
    " 'Bird':7.1,\n",
    " 'Bonfire of the Vanities The': 5.6,\n",
    " 'Bronco Billy' : 6.1,\n",
    " 'Cape Fear':7.3,\n",
    " 'Color of Money The':7,\n",
    " 'Conversation The':7.8,\n",
    " \"Donovan's Reef\":6.9,\n",
    " 'Duel':7.6,\n",
    " 'E. T. The Extra-Terrestrial':7.8,\n",
    " 'Eiger Sanction The':6.4,\n",
    " 'El Guerrero Solitario':6.9,\n",
    " 'Empire of the Sun':7.7,\n",
    " 'Fellini Satyricon':6.9,\n",
    " 'Firefox':6,\n",
    " 'For a Few Dollars More':8.3,\n",
    " 'Fort Apache':7.5,\n",
    " 'Full Metal Jacket':8.3,\n",
    " 'Gardens of Stone':6.4,\n",
    " 'Gauntlet The':6.4,\n",
    " 'Ginger & Fred':7.3,\n",
    " 'Godfather The':9.2,\n",
    " 'Good Fellas':8.7,\n",
    " 'Heartbreak Ridge':6.9,\n",
    " 'High Heels':7.1,\n",
    " 'High Plains Drifter':7.5,\n",
    " 'Honkytonk Man':6.6,\n",
    " 'Hook':6.8,\n",
    " 'Horse Soldiers The':7.2,\n",
    " 'Il Bidone':7.5,\n",
    " 'Indiana Jones & the Last Crusade':8.2,\n",
    " 'Jaws':8,\n",
    " 'Judge Priest':6.3,\n",
    " \"Killer's Kiss\":6.6,\n",
    " 'Killing The':8,\n",
    " 'King of Comedy':7.8,\n",
    " 'La Dolce Vita':8,\n",
    " 'Last Hurrah The':7.4,\n",
    " 'Last Temptation of Christ The':7.5,\n",
    " 'Law of Desire':7.1,\n",
    " 'Lolita':7.6,\n",
    " 'Long Gray Line The':7.2,\n",
    " 'Long Voyage Home The':7,\n",
    " 'Man Who Shot Liberty Valance The':8.1,\n",
    " 'Matador':7,\n",
    " 'Mister Roberts':7.7,\n",
    " 'Mogambo':6.7,\n",
    " 'My Darling Clementine':7.8,\n",
    " 'New York New York':6.7,\n",
    " 'New York Stories':6.4,\n",
    " 'Night Gallery':8,\n",
    " 'Nineteen Forty-One':7.2,\n",
    " 'Outsiders The':7.1,\n",
    " 'Pale Rider':7.3,\n",
    " 'Paths of Glory':8.4,\n",
    " 'Peggy Sue Got Married':6.3,\n",
    " 'People The':6.3,\n",
    " 'Pepi Luci Bom':6.2,\n",
    " 'Pink Cadillac':5.4,\n",
    " 'Play Misty for Me':7,\n",
    " 'Raging Bull':8.2,\n",
    " 'Raiders of the Lost Ark':8.4,\n",
    " 'Rain People The':6.9,\n",
    " 'Rio Grande':7.1,\n",
    " 'Roma':8.7,\n",
    " 'Rookie THe':5.9,\n",
    " 'Rumble Fish':7.2,\n",
    " 'Searchers The':7.9,\n",
    " 'She Wore a Yellow Ribbon':7.3,\n",
    " 'Shining The':8.4,\n",
    " 'Spartacus':7.9,\n",
    " 'Sugarland Express The':6.8,\n",
    " 'Sun Shines Bright The':7,\n",
    " 'Terminator 2':8.5,\n",
    " 'Terminator The':8,\n",
    " 'They Were Expendable':7.2,\n",
    " 'Three Godfathers':7.1,\n",
    " 'Tie Me Up! Tie Me Down!':7,\n",
    " 'Tonight for Sure':3.1,\n",
    " 'Tucker: The Man & His Dream':6.9,\n",
    " 'Untouchables The':7.9,\n",
    " 'Wagon Master':7.1,\n",
    " 'Wagonmaster':7.1,\n",
    " 'Wee Willie Winkie':7.1,\n",
    " 'What Price Glory?': 6.3,\n",
    " 'White Hunter Black Heart':6.6,\n",
    " 'Wings of Eagles The':6.7,\n",
    " 'Wise Guys':5.7,\n",
    " 'Women on the Verge of a Nervous Breakdown':7.6}\n",
    "for k,i in ratings.items():\n",
    "    directores.loc[directores[\"Title\"]== k,\"Rating_imdb\"] = i"
   ]
  },
  {
   "cell_type": "markdown",
   "metadata": {},
   "source": [
    "**YA TENEMOS NUESTRA TABLA LISTA PARA EMPEZAR CON LOS ANALISIS!!!!!!!!!!!!**"
   ]
  },
  {
   "cell_type": "code",
   "execution_count": 21,
   "metadata": {},
   "outputs": [],
   "source": [
    "#AHORA SOLO QUEDA EXPORTAR EL DATASET, PARA HACER LOS ANALISIS!!!"
   ]
  },
  {
   "cell_type": "code",
   "execution_count": 23,
   "metadata": {},
   "outputs": [],
   "source": [
    "directores.to_csv(r'.\\Movies_Idbm.csv', index = False)"
   ]
  },
  {
   "cell_type": "code",
   "execution_count": null,
   "metadata": {},
   "outputs": [],
   "source": []
  }
 ],
 "metadata": {
  "kernelspec": {
   "display_name": "Python 3",
   "language": "python",
   "name": "python3"
  },
  "language_info": {
   "codemirror_mode": {
    "name": "ipython",
    "version": 3
   },
   "file_extension": ".py",
   "mimetype": "text/x-python",
   "name": "python",
   "nbconvert_exporter": "python",
   "pygments_lexer": "ipython3",
   "version": "3.8.3"
  }
 },
 "nbformat": 4,
 "nbformat_minor": 4
}
