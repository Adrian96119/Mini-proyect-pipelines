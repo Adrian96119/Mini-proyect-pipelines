{
 "cells": [
  {
   "cell_type": "markdown",
   "metadata": {},
   "source": [
    "## LIMPIEZA DEL DATASET!!!!!"
   ]
  },
  {
   "cell_type": "markdown",
   "metadata": {},
   "source": [
    "El conjunto de datos resume las mejores películas de un período de 1920-2000, uno de los \"períodos dorados\" de las películas de Hollywood. Los datos se pueden utilizar para realizar un análisis de datos exploratorio sobre la filmografía de Hollywood y para identificar el patrón de cómo se han desarrollado los géneros de películas a lo largo de los años. También presenta los mejores miembros del reparto: actores, actrices y directores y la popularidad.\n",
    "\n",
    "Contenido\n",
    "Año: el año en que se estrenó la película.\n",
    "Duración- La duración de la película en minutos\n",
    "Título- Nombre del tema de la película-\n",
    "Género del actor de la película-\n",
    "Nombre del actor principal en la actriz de la película-\n",
    "Nombre de la actriz principal en el\n",
    "director de la película- Nombre del director de la película\n",
    "Popularidad: métricas para identificar la popularidad de los\n",
    "premios cinematográficos: si la película ha sido nominada / premiada con reconocimientos globales.\n"
   ]
  },
  {
   "cell_type": "code",
   "execution_count": 21,
   "metadata": {},
   "outputs": [],
   "source": [
    "import numpy as np\n",
    "import pandas as pd\n",
    "import matplotlib.pyplot as plt\n",
    "import seaborn as sns\n",
    "import re\n",
    "\n",
    "%matplotlib inline\n"
   ]
  },
  {
   "cell_type": "code",
   "execution_count": 33,
   "metadata": {},
   "outputs": [],
   "source": [
    "data = pd.read_csv(\"MovieDataset.csv\",encoding = \"ISO-8859-1\") #ABRIMOS EL DATA SET CUALQUIERA REFERENTE A PELICULAS"
   ]
  },
  {
   "cell_type": "code",
   "execution_count": 37,
   "metadata": {},
   "outputs": [
    {
     "data": {
      "text/plain": [
       "Year            0\n",
       "Length         67\n",
       "Title           0\n",
       "Subject         2\n",
       "Actor           8\n",
       "Actress       378\n",
       "Director      253\n",
       "Popularity     13\n",
       "Awards          7\n",
       "dtype: int64"
      ]
     },
     "execution_count": 37,
     "metadata": {},
     "output_type": "execute_result"
    }
   ],
   "source": [
    "data.isnull().sum()"
   ]
  },
  {
   "cell_type": "code",
   "execution_count": 31,
   "metadata": {},
   "outputs": [
    {
     "data": {
      "text/plain": [
       "adult      0\n",
       "budget     0\n",
       "genres     0\n",
       "revenue    6\n",
       "title      6\n",
       "dtype: int64"
      ]
     },
     "execution_count": 31,
     "metadata": {},
     "output_type": "execute_result"
    }
   ],
   "source": []
  },
  {
   "cell_type": "code",
   "execution_count": null,
   "metadata": {},
   "outputs": [],
   "source": []
  },
  {
   "cell_type": "code",
   "execution_count": null,
   "metadata": {},
   "outputs": [],
   "source": []
  }
 ],
 "metadata": {
  "kernelspec": {
   "display_name": "Python 3",
   "language": "python",
   "name": "python3"
  },
  "language_info": {
   "codemirror_mode": {
    "name": "ipython",
    "version": 3
   },
   "file_extension": ".py",
   "mimetype": "text/x-python",
   "name": "python",
   "nbconvert_exporter": "python",
   "pygments_lexer": "ipython3",
   "version": "3.8.3"
  }
 },
 "nbformat": 4,
 "nbformat_minor": 4
}
