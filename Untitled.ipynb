{
 "cells": [
  {
   "cell_type": "markdown",
   "metadata": {},
   "source": [
    "## LIMPIEZA DEL DATASET!!!!!"
   ]
  },
  {
   "cell_type": "markdown",
   "metadata": {},
   "source": [
    "El conjunto de datos resume las mejores películas de un período de 1920-2000, uno de los \"períodos dorados\" de las películas de Hollywood. Los datos se pueden utilizar para realizar un análisis de datos exploratorio sobre la filmografía de Hollywood y para identificar el patrón de cómo se han desarrollado los géneros de películas a lo largo de los años. También presenta los mejores miembros del reparto: actores, actrices y directores y la popularidad.\n",
    "\n",
    "Contenido\n",
    "Año: el año en que se estrenó la película.\n",
    "Duración- La duración de la película en minutos\n",
    "Título- Nombre del tema de la película-\n",
    "Género del actor de la película-\n",
    "Nombre del actor principal en la actriz de la película-\n",
    "Nombre de la actriz principal en el\n",
    "director de la película- Nombre del director de la película\n",
    "Popularidad: métricas para identificar la popularidad de los\n",
    "premios cinematográficos: si la película ha sido nominada / premiada con reconocimientos globales.\n"
   ]
  },
  {
   "cell_type": "code",
   "execution_count": 1,
   "metadata": {},
   "outputs": [],
   "source": [
    "import pandas as pd\n",
    "\n",
    "\n",
    "\n"
   ]
  },
  {
   "cell_type": "code",
   "execution_count": 2,
   "metadata": {},
   "outputs": [],
   "source": [
    "df = pd.read_csv(\"MovieDataset.csv\",encoding = \"ISO-8859-1\") #ABRIMOS EL DATA SET CUALQUIERA REFERENTE A PELICULAS"
   ]
  },
  {
   "cell_type": "code",
   "execution_count": 3,
   "metadata": {},
   "outputs": [
    {
     "name": "stdout",
     "output_type": "stream",
     "text": [
      "<class 'pandas.core.frame.DataFrame'>\n",
      "RangeIndex: 1659 entries, 0 to 1658\n",
      "Data columns (total 9 columns):\n",
      " #   Column      Non-Null Count  Dtype  \n",
      "---  ------      --------------  -----  \n",
      " 0   Year        1659 non-null   int64  \n",
      " 1   Length      1592 non-null   float64\n",
      " 2   Title       1659 non-null   object \n",
      " 3   Subject     1657 non-null   object \n",
      " 4   Actor       1651 non-null   object \n",
      " 5   Actress     1281 non-null   object \n",
      " 6   Director    1406 non-null   object \n",
      " 7   Popularity  1646 non-null   float64\n",
      " 8   Awards      1652 non-null   object \n",
      "dtypes: float64(2), int64(1), object(6)\n",
      "memory usage: 116.8+ KB\n"
     ]
    }
   ],
   "source": [
    "df.info() #compruebo lo primero la información de esta tabla, y veo que me interesan todas las columnas. No necesito \n",
    "            #quitar ninguna,y además el tipo de dato de cada columna se corresponde con la realidad, estan todas correctas."
   ]
  },
  {
   "cell_type": "code",
   "execution_count": 4,
   "metadata": {},
   "outputs": [],
   "source": [
    "#Lo sigiente que vamos a hacer es eliminar las filas donde el titulo esté duplicado ya que no serviría de mucho para\n",
    "#nuestro posterior analisis.\n",
    "df = df.drop_duplicates(\"Title\",keep = 'last')"
   ]
  },
  {
   "cell_type": "code",
   "execution_count": 5,
   "metadata": {},
   "outputs": [
    {
     "name": "stdout",
     "output_type": "stream",
     "text": [
      "<class 'pandas.core.frame.DataFrame'>\n",
      "Int64Index: 1655 entries, 0 to 1658\n",
      "Data columns (total 9 columns):\n",
      " #   Column      Non-Null Count  Dtype  \n",
      "---  ------      --------------  -----  \n",
      " 0   Year        1655 non-null   int64  \n",
      " 1   Length      1588 non-null   float64\n",
      " 2   Title       1655 non-null   object \n",
      " 3   Subject     1653 non-null   object \n",
      " 4   Actor       1647 non-null   object \n",
      " 5   Actress     1277 non-null   object \n",
      " 6   Director    1404 non-null   object \n",
      " 7   Popularity  1642 non-null   float64\n",
      " 8   Awards      1648 non-null   object \n",
      "dtypes: float64(2), int64(1), object(6)\n",
      "memory usage: 129.3+ KB\n"
     ]
    }
   ],
   "source": [
    "df.info() # comprobamos que con el data original se borraron 4 filas donde el título se repetía. "
   ]
  },
  {
   "cell_type": "code",
   "execution_count": 6,
   "metadata": {},
   "outputs": [
    {
     "data": {
      "text/plain": [
       "No     1488\n",
       "Yes     160\n",
       "Name: Awards, dtype: int64"
      ]
     },
     "execution_count": 6,
     "metadata": {},
     "output_type": "execute_result"
    }
   ],
   "source": [
    "df[\"Awards\"].value_counts() #Comprobamos también en la columna de Awards que no hay ningún dato extraño"
   ]
  },
  {
   "cell_type": "markdown",
   "metadata": {},
   "source": [
    "¡Vamos a trabajar con nuestros directores preferidos! Por lo tanto, vamos a comprobar en la columna de director, los directores unicos que hay en este data set para seleccionar solo las filas donde se encuentren los que elijamos."
   ]
  },
  {
   "cell_type": "code",
   "execution_count": 7,
   "metadata": {},
   "outputs": [],
   "source": [
    "#print(set(df['Director']))"
   ]
  },
  {
   "cell_type": "code",
   "execution_count": 8,
   "metadata": {},
   "outputs": [],
   "source": [
    "#Una vez elegidos los directores que queremos, vamos a reducir nuestro data set.\n",
    "directores = df[(df[\"Director\"] == \"Ford John\") | (df[\"Director\"] == \"Cameron James\") \n",
    "                | (df[\"Director\"] == \"Hitchcock Alfred\") | (df[\"Director\"] == \"Hitchcock Alfred\") \n",
    "                | (df[\"Director\"] == \"Fellini Federico\") | (df[\"Director\"] == \"Almodóvar Pedro\")\n",
    "                | (df[\"Director\"] == \"De Palma Brian\")   | (df[\"Director\"] == \"Coppola Francis Ford\")\n",
    "                | (df[\"Director\"] == \"Leone Sergio\")     | (df[\"Director\"] == \"Spielberg Steven\")\n",
    "                | (df[\"Director\"] == \"Eastwood Clint\")   | (df[\"Director\"] == \"Allen Woody\")\n",
    "                | (df[\"Director\"] == \"Kubrick Stanley\")  | (df[\"Director\"] == \"Scorsese Martin\")]"
   ]
  },
  {
   "cell_type": "code",
   "execution_count": 9,
   "metadata": {},
   "outputs": [
    {
     "name": "stdout",
     "output_type": "stream",
     "text": [
      "Year           0\n",
      "Length         4\n",
      "Title          0\n",
      "Subject        0\n",
      "Actor          0\n",
      "Actress       22\n",
      "Director       0\n",
      "Popularity     0\n",
      "Awards         0\n",
      "dtype: int64\n"
     ]
    }
   ],
   "source": [
    "print(directores.isnull().sum()) #comprobamos que solo hay valores nulos en la columna lenght y en la de Actress\n",
    "                                 #asique rellenaremos esos campos posteriormente con la información de las Apis."
   ]
  },
  {
   "cell_type": "code",
   "execution_count": 11,
   "metadata": {},
   "outputs": [
    {
     "name": "stderr",
     "output_type": "stream",
     "text": [
      "<ipython-input-11-b0c6645ce7d4>:3: SettingWithCopyWarning: \n",
      "A value is trying to be set on a copy of a slice from a DataFrame.\n",
      "Try using .loc[row_indexer,col_indexer] = value instead\n",
      "\n",
      "See the caveats in the documentation: https://pandas.pydata.org/pandas-docs/stable/user_guide/indexing.html#returning-a-view-versus-a-copy\n",
      "  directores[\"Length\"] = directores[\"Length\"].astype(int)\n"
     ]
    }
   ],
   "source": [
    "#Queremos rellenar los valores nulos primero con ceros para que despues podamos cambiar el tipo de dato de float, a int\n",
    "directores[\"Length\"].fillna(0,inplace = True)\n",
    "directores[\"Length\"] = directores[\"Length\"].astype(int)"
   ]
  },
  {
   "cell_type": "code",
   "execution_count": 34,
   "metadata": {},
   "outputs": [],
   "source": [
    "#directores[\"Year\"].value_counts()\n",
    "#directores[\"Length\"].value_counts()\n",
    "#directores[\"Popularity\"].value_counts()\n",
    "\n",
    "#EVALUAMOS SI NO HAY VALORES DE 0 EN LAS COLUMNAS QUE DEBAN TENER NUMEROS DIFERENTES A 0\n",
    "# PARA SABER SI HAY QUE RELLENARLOS CON DATOS TAMBIÉN."
   ]
  },
  {
   "cell_type": "code",
   "execution_count": 52,
   "metadata": {},
   "outputs": [],
   "source": [
    "set(directores[\"Subject\"]) #Comprobamos que se repite Westerns y Western asique lo dejaremos en Western para que no haya \n",
    "#problemas en nuestro analisis.\n",
    "directores.Subject = directores.Subject.replace({\"Westerns\": \"Western\"}) #¿Mejor no?\n",
    "#Hemos hecho lo mismo con las otras columnas y parece que los datos estan todos correctos.\n",
    "        \n",
    "        "
   ]
  },
  {
   "cell_type": "code",
   "execution_count": 57,
   "metadata": {},
   "outputs": [
    {
     "data": {
      "text/html": [
       "<div>\n",
       "<style scoped>\n",
       "    .dataframe tbody tr th:only-of-type {\n",
       "        vertical-align: middle;\n",
       "    }\n",
       "\n",
       "    .dataframe tbody tr th {\n",
       "        vertical-align: top;\n",
       "    }\n",
       "\n",
       "    .dataframe thead th {\n",
       "        text-align: right;\n",
       "    }\n",
       "</style>\n",
       "<table border=\"1\" class=\"dataframe\">\n",
       "  <thead>\n",
       "    <tr style=\"text-align: right;\">\n",
       "      <th></th>\n",
       "      <th>Year</th>\n",
       "      <th>Length</th>\n",
       "      <th>Title</th>\n",
       "      <th>Subject</th>\n",
       "      <th>Actor</th>\n",
       "      <th>Actress</th>\n",
       "      <th>Director</th>\n",
       "      <th>Popularity</th>\n",
       "      <th>Awards</th>\n",
       "    </tr>\n",
       "  </thead>\n",
       "  <tbody>\n",
       "    <tr>\n",
       "      <th>0</th>\n",
       "      <td>1990</td>\n",
       "      <td>111</td>\n",
       "      <td>Tie Me Up! Tie Me Down!</td>\n",
       "      <td>Comedy</td>\n",
       "      <td>Banderas Antonio</td>\n",
       "      <td>Abril Victoria</td>\n",
       "      <td>Almodóvar Pedro</td>\n",
       "      <td>68.0</td>\n",
       "      <td>No</td>\n",
       "    </tr>\n",
       "    <tr>\n",
       "      <th>1</th>\n",
       "      <td>1991</td>\n",
       "      <td>113</td>\n",
       "      <td>High Heels</td>\n",
       "      <td>Comedy</td>\n",
       "      <td>Bosé Miguel</td>\n",
       "      <td>Abril Victoria</td>\n",
       "      <td>Almodóvar Pedro</td>\n",
       "      <td>68.0</td>\n",
       "      <td>No</td>\n",
       "    </tr>\n",
       "    <tr>\n",
       "      <th>17</th>\n",
       "      <td>1929</td>\n",
       "      <td>84</td>\n",
       "      <td>Blackmail</td>\n",
       "      <td>Mystery</td>\n",
       "      <td>Longden John</td>\n",
       "      <td>Algood Sara</td>\n",
       "      <td>Hitchcock Alfred</td>\n",
       "      <td>2.0</td>\n",
       "      <td>No</td>\n",
       "    </tr>\n",
       "    <tr>\n",
       "      <th>18</th>\n",
       "      <td>1963</td>\n",
       "      <td>109</td>\n",
       "      <td>Donovan's Reef</td>\n",
       "      <td>Comedy</td>\n",
       "      <td>Wayne John</td>\n",
       "      <td>Allen Elizabeth</td>\n",
       "      <td>Ford John</td>\n",
       "      <td>62.0</td>\n",
       "      <td>No</td>\n",
       "    </tr>\n",
       "    <tr>\n",
       "      <th>19</th>\n",
       "      <td>1988</td>\n",
       "      <td>110</td>\n",
       "      <td>Tucker: The Man &amp; His Dream</td>\n",
       "      <td>Drama</td>\n",
       "      <td>Bridges Jeff</td>\n",
       "      <td>Allen Joan</td>\n",
       "      <td>Coppola Francis Ford</td>\n",
       "      <td>68.0</td>\n",
       "      <td>No</td>\n",
       "    </tr>\n",
       "    <tr>\n",
       "      <th>...</th>\n",
       "      <td>...</td>\n",
       "      <td>...</td>\n",
       "      <td>...</td>\n",
       "      <td>...</td>\n",
       "      <td>...</td>\n",
       "      <td>...</td>\n",
       "      <td>...</td>\n",
       "      <td>...</td>\n",
       "      <td>...</td>\n",
       "    </tr>\n",
       "    <tr>\n",
       "      <th>1383</th>\n",
       "      <td>1991</td>\n",
       "      <td>117</td>\n",
       "      <td>Full Metal Jacket</td>\n",
       "      <td>War</td>\n",
       "      <td>Modine Matthew</td>\n",
       "      <td>NaN</td>\n",
       "      <td>Kubrick Stanley</td>\n",
       "      <td>45.0</td>\n",
       "      <td>No</td>\n",
       "    </tr>\n",
       "    <tr>\n",
       "      <th>1408</th>\n",
       "      <td>1991</td>\n",
       "      <td>130</td>\n",
       "      <td>For a Few Dollars More</td>\n",
       "      <td>Western</td>\n",
       "      <td>Eastwood Clint</td>\n",
       "      <td>NaN</td>\n",
       "      <td>Leone Sergio</td>\n",
       "      <td>34.0</td>\n",
       "      <td>No</td>\n",
       "    </tr>\n",
       "    <tr>\n",
       "      <th>1483</th>\n",
       "      <td>1991</td>\n",
       "      <td>0</td>\n",
       "      <td>Raging Bull</td>\n",
       "      <td>Drama</td>\n",
       "      <td>De Niro Robert</td>\n",
       "      <td>NaN</td>\n",
       "      <td>Scorsese Martin</td>\n",
       "      <td>25.0</td>\n",
       "      <td>No</td>\n",
       "    </tr>\n",
       "    <tr>\n",
       "      <th>1492</th>\n",
       "      <td>1990</td>\n",
       "      <td>126</td>\n",
       "      <td>Indiana Jones &amp; the Last Crusade</td>\n",
       "      <td>Action</td>\n",
       "      <td>Ford Harrison</td>\n",
       "      <td>NaN</td>\n",
       "      <td>Spielberg Steven</td>\n",
       "      <td>8.0</td>\n",
       "      <td>No</td>\n",
       "    </tr>\n",
       "    <tr>\n",
       "      <th>1493</th>\n",
       "      <td>1993</td>\n",
       "      <td>90</td>\n",
       "      <td>Duel</td>\n",
       "      <td>Mystery</td>\n",
       "      <td>Weaver Dennis</td>\n",
       "      <td>NaN</td>\n",
       "      <td>Spielberg Steven</td>\n",
       "      <td>48.0</td>\n",
       "      <td>No</td>\n",
       "    </tr>\n",
       "  </tbody>\n",
       "</table>\n",
       "<p>141 rows × 9 columns</p>\n",
       "</div>"
      ],
      "text/plain": [
       "      Year  Length                             Title  Subject  \\\n",
       "0     1990     111           Tie Me Up! Tie Me Down!   Comedy   \n",
       "1     1991     113                        High Heels   Comedy   \n",
       "17    1929      84                         Blackmail  Mystery   \n",
       "18    1963     109                    Donovan's Reef   Comedy   \n",
       "19    1988     110       Tucker: The Man & His Dream    Drama   \n",
       "...    ...     ...                               ...      ...   \n",
       "1383  1991     117                 Full Metal Jacket      War   \n",
       "1408  1991     130            For a Few Dollars More  Western   \n",
       "1483  1991       0                       Raging Bull    Drama   \n",
       "1492  1990     126  Indiana Jones & the Last Crusade   Action   \n",
       "1493  1993      90                              Duel  Mystery   \n",
       "\n",
       "                 Actor          Actress              Director  Popularity  \\\n",
       "0     Banderas Antonio   Abril Victoria       Almodóvar Pedro        68.0   \n",
       "1          Bosé Miguel   Abril Victoria       Almodóvar Pedro        68.0   \n",
       "17        Longden John      Algood Sara      Hitchcock Alfred         2.0   \n",
       "18          Wayne John  Allen Elizabeth             Ford John        62.0   \n",
       "19        Bridges Jeff       Allen Joan  Coppola Francis Ford        68.0   \n",
       "...                ...              ...                   ...         ...   \n",
       "1383    Modine Matthew              NaN       Kubrick Stanley        45.0   \n",
       "1408    Eastwood Clint              NaN          Leone Sergio        34.0   \n",
       "1483    De Niro Robert              NaN       Scorsese Martin        25.0   \n",
       "1492     Ford Harrison              NaN      Spielberg Steven         8.0   \n",
       "1493     Weaver Dennis              NaN      Spielberg Steven        48.0   \n",
       "\n",
       "     Awards  \n",
       "0        No  \n",
       "1        No  \n",
       "17       No  \n",
       "18       No  \n",
       "19       No  \n",
       "...     ...  \n",
       "1383     No  \n",
       "1408     No  \n",
       "1483     No  \n",
       "1492     No  \n",
       "1493     No  \n",
       "\n",
       "[141 rows x 9 columns]"
      ]
     },
     "execution_count": 57,
     "metadata": {},
     "output_type": "execute_result"
    }
   ],
   "source": [
    "directores"
   ]
  },
  {
   "cell_type": "code",
   "execution_count": null,
   "metadata": {},
   "outputs": [],
   "source": []
  }
 ],
 "metadata": {
  "kernelspec": {
   "display_name": "Python 3",
   "language": "python",
   "name": "python3"
  },
  "language_info": {
   "codemirror_mode": {
    "name": "ipython",
    "version": 3
   },
   "file_extension": ".py",
   "mimetype": "text/x-python",
   "name": "python",
   "nbconvert_exporter": "python",
   "pygments_lexer": "ipython3",
   "version": "3.8.3"
  }
 },
 "nbformat": 4,
 "nbformat_minor": 4
}
